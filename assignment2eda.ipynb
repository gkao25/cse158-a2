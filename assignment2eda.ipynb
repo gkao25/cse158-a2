{
 "cells": [
  {
   "cell_type": "code",
   "execution_count": 1,
   "id": "117a31a5-f5ee-4334-8895-a06c4c60b7bb",
   "metadata": {},
   "outputs": [],
   "source": [
    "import pandas as pd\n",
    "import matplotlib.pyplot as plt\n",
    "import seaborn as sns\n",
    "from collections import defaultdict\n",
    "from math import exp, sqrt\n",
    "from sklearn.model_selection import train_test_split"
   ]
  },
  {
   "cell_type": "markdown",
   "metadata": {},
   "source": [
    "## Dataset and Exploratory Data Analysis"
   ]
  },
  {
   "cell_type": "code",
   "execution_count": 2,
   "id": "ad14420f-0df2-469f-ae0c-5896fb20ae9c",
   "metadata": {},
   "outputs": [],
   "source": [
    "all_beauty = pd.read_csv('All_beauty.csv', header=None)\n",
    "column_names = ['item', 'user', 'rating', 'timestamp']\n",
    "all_beauty.columns = column_names"
   ]
  },
  {
   "cell_type": "code",
   "execution_count": 52,
   "id": "b1d5c90f-cd12-4745-8c59-12fec6219c50",
   "metadata": {},
   "outputs": [
    {
     "data": {
      "text/html": [
       "<div>\n",
       "<style scoped>\n",
       "    .dataframe tbody tr th:only-of-type {\n",
       "        vertical-align: middle;\n",
       "    }\n",
       "\n",
       "    .dataframe tbody tr th {\n",
       "        vertical-align: top;\n",
       "    }\n",
       "\n",
       "    .dataframe thead th {\n",
       "        text-align: right;\n",
       "    }\n",
       "</style>\n",
       "<table border=\"1\" class=\"dataframe\">\n",
       "  <thead>\n",
       "    <tr style=\"text-align: right;\">\n",
       "      <th></th>\n",
       "      <th>item</th>\n",
       "      <th>user</th>\n",
       "      <th>rating</th>\n",
       "      <th>timestamp</th>\n",
       "    </tr>\n",
       "  </thead>\n",
       "  <tbody>\n",
       "    <tr>\n",
       "      <th>0</th>\n",
       "      <td>0143026860</td>\n",
       "      <td>A1V6B6TNIC10QE</td>\n",
       "      <td>1.0</td>\n",
       "      <td>1424304000</td>\n",
       "    </tr>\n",
       "    <tr>\n",
       "      <th>1</th>\n",
       "      <td>0143026860</td>\n",
       "      <td>A2F5GHSXFQ0W6J</td>\n",
       "      <td>4.0</td>\n",
       "      <td>1418860800</td>\n",
       "    </tr>\n",
       "    <tr>\n",
       "      <th>2</th>\n",
       "      <td>0143026860</td>\n",
       "      <td>A1572GUYS7DGSR</td>\n",
       "      <td>4.0</td>\n",
       "      <td>1407628800</td>\n",
       "    </tr>\n",
       "    <tr>\n",
       "      <th>3</th>\n",
       "      <td>0143026860</td>\n",
       "      <td>A1PSGLFK1NSVO</td>\n",
       "      <td>5.0</td>\n",
       "      <td>1362960000</td>\n",
       "    </tr>\n",
       "    <tr>\n",
       "      <th>4</th>\n",
       "      <td>0143026860</td>\n",
       "      <td>A6IKXKZMTKGSC</td>\n",
       "      <td>5.0</td>\n",
       "      <td>1324771200</td>\n",
       "    </tr>\n",
       "    <tr>\n",
       "      <th>...</th>\n",
       "      <td>...</td>\n",
       "      <td>...</td>\n",
       "      <td>...</td>\n",
       "      <td>...</td>\n",
       "    </tr>\n",
       "    <tr>\n",
       "      <th>371340</th>\n",
       "      <td>B01HJEGTYK</td>\n",
       "      <td>A202DCI7TV1022</td>\n",
       "      <td>1.0</td>\n",
       "      <td>1500508800</td>\n",
       "    </tr>\n",
       "    <tr>\n",
       "      <th>371341</th>\n",
       "      <td>B01HJEGTYK</td>\n",
       "      <td>A3FSOR5IJOFIBE</td>\n",
       "      <td>5.0</td>\n",
       "      <td>1489622400</td>\n",
       "    </tr>\n",
       "    <tr>\n",
       "      <th>371342</th>\n",
       "      <td>B01HJEGTYK</td>\n",
       "      <td>A1B5DK6CTP2P24</td>\n",
       "      <td>5.0</td>\n",
       "      <td>1488326400</td>\n",
       "    </tr>\n",
       "    <tr>\n",
       "      <th>371343</th>\n",
       "      <td>B01HJEGTYK</td>\n",
       "      <td>A23OUYS5IRMJS9</td>\n",
       "      <td>2.0</td>\n",
       "      <td>1487635200</td>\n",
       "    </tr>\n",
       "    <tr>\n",
       "      <th>371344</th>\n",
       "      <td>B01HJEGTYK</td>\n",
       "      <td>A24KQ9RVU81L87</td>\n",
       "      <td>2.0</td>\n",
       "      <td>1481760000</td>\n",
       "    </tr>\n",
       "  </tbody>\n",
       "</table>\n",
       "<p>371345 rows × 4 columns</p>\n",
       "</div>"
      ],
      "text/plain": [
       "              item            user  rating   timestamp\n",
       "0       0143026860  A1V6B6TNIC10QE     1.0  1424304000\n",
       "1       0143026860  A2F5GHSXFQ0W6J     4.0  1418860800\n",
       "2       0143026860  A1572GUYS7DGSR     4.0  1407628800\n",
       "3       0143026860   A1PSGLFK1NSVO     5.0  1362960000\n",
       "4       0143026860   A6IKXKZMTKGSC     5.0  1324771200\n",
       "...            ...             ...     ...         ...\n",
       "371340  B01HJEGTYK  A202DCI7TV1022     1.0  1500508800\n",
       "371341  B01HJEGTYK  A3FSOR5IJOFIBE     5.0  1489622400\n",
       "371342  B01HJEGTYK  A1B5DK6CTP2P24     5.0  1488326400\n",
       "371343  B01HJEGTYK  A23OUYS5IRMJS9     2.0  1487635200\n",
       "371344  B01HJEGTYK  A24KQ9RVU81L87     2.0  1481760000\n",
       "\n",
       "[371345 rows x 4 columns]"
      ]
     },
     "execution_count": 52,
     "metadata": {},
     "output_type": "execute_result"
    }
   ],
   "source": [
    "all_beauty"
   ]
  },
  {
   "cell_type": "code",
   "execution_count": 53,
   "id": "b7bbcd94-1c8d-496d-a065-3fc73367063c",
   "metadata": {},
   "outputs": [
    {
     "name": "stdout",
     "output_type": "stream",
     "text": [
      "count    371345.000000\n",
      "mean          4.112093\n",
      "std           1.362099\n",
      "min           1.000000\n",
      "25%           4.000000\n",
      "50%           5.000000\n",
      "75%           5.000000\n",
      "max           5.000000\n",
      "Name: rating, dtype: float64\n"
     ]
    }
   ],
   "source": [
    "print(all_beauty.describe()['rating'])"
   ]
  },
  {
   "cell_type": "code",
   "execution_count": 54,
   "id": "ded6eaf7-b4b2-4a65-abed-d92d4c166977",
   "metadata": {},
   "outputs": [
    {
     "data": {
      "image/png": "[encoded data removed]",
      "text/plain": [
       "<Figure size 640x480 with 1 Axes>"
      ]
     },
     "metadata": {},
     "output_type": "display_data"
    }
   ],
   "source": [
    "# Distribution of ratings by users\n",
    "sns.countplot(x='rating', data=all_beauty)\n",
    "plt.xlabel('Rating')\n",
    "plt.ylabel('Count')\n",
    "plt.title('Distribution of Ratings by Users')\n",
    "plt.show()"
   ]
  },
  {
   "cell_type": "markdown",
   "id": "a5a4ec6f-44b0-43ab-aa48-6c1e5a573b3f",
   "metadata": {},
   "source": [
    "We can see here in the distribution of ratings and in the histogram above that a large majority of users provided a 5-star rating for their product from Amazon. Additionally, the mean rating was over 4 stars meaning that most users thoroughly enjoyed the beauty products they received."
   ]
  },
  {
   "cell_type": "code",
   "execution_count": 55,
   "id": "fe4ef52a-32e8-483f-a6a6-509ae0145383",
   "metadata": {},
   "outputs": [
    {
     "name": "stdout",
     "output_type": "stream",
     "text": [
      "Number of unique users: 324038\n",
      "Number of unique items: 32586\n"
     ]
    }
   ],
   "source": [
    "unique_users = all_beauty['user'].nunique()\n",
    "unique_items = all_beauty['item'].nunique()\n",
    "print(f\"Number of unique users: {unique_users}\")\n",
    "print(f\"Number of unique items: {unique_items}\")"
   ]
  },
  {
   "cell_type": "code",
   "execution_count": 3,
   "id": "6058d62b-56dd-43d3-b6ac-05eb951545d8",
   "metadata": {},
   "outputs": [
    {
     "data": {
      "image/png": "[encoded data removed]",
      "text/plain": [
       "<Figure size 640x480 with 1 Axes>"
      ]
     },
     "metadata": {},
     "output_type": "display_data"
    }
   ],
   "source": [
    "all_beauty['dates'] = pd.to_datetime(all_beauty['timestamp'], unit='s')\n",
    "all_beauty.set_index('dates', inplace=True)\n",
    "\n",
    "# Plot the average rating over time\n",
    "all_beauty['rating'].resample('M').mean().plot()\n",
    "plt.xlabel('Time')\n",
    "plt.ylabel('Average Rating')\n",
    "plt.title('Average Rating Over Time')\n",
    "plt.show()"
   ]
  },
  {
   "cell_type": "code",
   "execution_count": 4,
   "id": "625ec26d-272a-4224-b4c4-843c9b163b32",
   "metadata": {},
   "outputs": [
    {
     "data": {
      "image/png": "[encoded data removed]",
      "text/plain": [
       "<Figure size 640x480 with 1 Axes>"
      ]
     },
     "metadata": {},
     "output_type": "display_data"
    }
   ],
   "source": [
    "all_beauty = all_beauty.reset_index()\n",
    "all_beauty.set_index('dates', inplace=True)\n",
    "\n",
    "# Plot the number of ratings over time\n",
    "all_beauty.resample('M').size().plot()\n",
    "plt.xlabel('Time')\n",
    "plt.ylabel('Number of Ratings')\n",
    "plt.title('User Engagement Over Time')\n",
    "plt.show()"
   ]
  },
  {
   "cell_type": "markdown",
   "id": "64f344c2-71f3-4c1d-bc69-9970a29d9275",
   "metadata": {},
   "source": [
    "In this graphic we can see the average ratings that were given over time. We see far more variability at the start of the time period with ratings varying largely, presumably due to less popularity of Amazon in the earlier 2000's. Now though, with Amazons extreme popularity, it would make sense that more people are providing ratings and that it would average out closer to a single value with less variability. It is also interesting to see that the dataset seems to have far less data in the time between 2017 and the last rating which was given on October 2nd 2018."
   ]
  },
  {
   "cell_type": "code",
   "execution_count": 5,
   "id": "5f38b4ca-c02c-4951-be40-d2d6302a26d2",
   "metadata": {},
   "outputs": [
    {
     "data": {
      "text/plain": [
       "(user\n",
       " A2GJX2KCUSR0EI    27\n",
       " A1KSC91G9AIY2Z    23\n",
       " A1EGCED01USBA9    21\n",
       " A22CW0ZHY3NJH8    21\n",
       " AENH50GW3OKDA     20\n",
       " Name: count, dtype: int64,\n",
       " item\n",
       " B000FOI48G    8672\n",
       " B000GLRREU    8341\n",
       " 1620213982    4792\n",
       " B001QY8QXM    4544\n",
       " B01DKQAXC0    4246\n",
       " Name: count, dtype: int64)"
      ]
     },
     "execution_count": 5,
     "metadata": {},
     "output_type": "execute_result"
    }
   ],
   "source": [
    "top_users = all_beauty['user'].value_counts().head(5)\n",
    "top_items = all_beauty['item'].value_counts().head(5)\n",
    "top_users, top_items"
   ]
  },
  {
   "cell_type": "markdown",
   "id": "74d57def-864b-426e-82f8-be2350a41397",
   "metadata": {},
   "source": [
    "The data above shows us the largest number of ratings made by a single user and also the products that were rated the most. We can see the most items a single user rated was 27 and the most frequently rated item was rated 8672 times."
   ]
  },
  {
   "cell_type": "markdown",
   "id": "15745c75-c0af-4f70-b622-27d0da9a1e59",
   "metadata": {},
   "source": [
    "After conducting this EDA, it is apparent that there are a few things we should look out for when trying to predict the star rating given a user/item pair and a timestamp. A huge number of the ratings are 5 stars so we need to make sure our model is not overfitting and only predicting 5-star ratings for all user/item pairs. Additionally, we must find the correct way to weight a rating based on the timestamp due to the unique distribution of ratings over time (since most of them came in a 4 year period). Dealing with these factors are critical in maximizing the performance of our predictive model. We also can see that there are about 10 unique users for every item in the dataset, which is something to keep in mind while we are building our model. Additionally there are 324038 unique users and only 371345 data entries which means users may have only rated 1 item. Thus means we will have limited user data to work with and is something we will have to work around."
   ]
  },
  {
   "cell_type": "markdown",
   "metadata": {},
   "source": [
    "## Rating Prediction"
   ]
  },
  {
   "cell_type": "markdown",
   "metadata": {},
   "source": [
    "Given our dataset, we will be predicting the rating given a particular user/item pair. In order to accomplish out predictive task of predicting ratings, we will implement our model based on time-weight collaborative filtering where we utilize some similarity function and an exponential decay function. To make this predictive model feasible, we would have to extract the user/item pairs along with the ratings and the timestamps. In this case of our prediction task, the user/item pairs and timestamps are crucial for creating our predictions where the ratings will serve as our true labels that we will compare to our predictions generated by our model. To account for the uneven distribution of ratings, we will incorporate a temporal factors (timestamps) through the use of a decay function that will emphasize newer ratings while putting less emphasis on older items into our standard collaborative filtering for rating prediction. In order to evaluate the validity of our predictions from our model, we will compare the MSE results with the baseline of just predicting the average rating for all points."
   ]
  },
  {
   "cell_type": "markdown",
   "metadata": {},
   "source": [
    "In order to accomplish our goal of making predictions using a time-weight collaborative filtering approach, we will need to preprocess our data into default dictionaries that maps users to items they rated and another that maps items to users who rated it. We will also need a default dictionary that maps a user to all their review entries and a dictionary that maps a user/item pair to its corresponding rating."
   ]
  },
  {
   "cell_type": "code",
   "execution_count": 6,
   "metadata": {},
   "outputs": [],
   "source": [
    "all_beauty = all_beauty.reset_index()"
   ]
  },
  {
   "cell_type": "code",
   "execution_count": 9,
   "metadata": {},
   "outputs": [],
   "source": [
    "beauty_train = all_beauty[:int(len(all_beauty)*0.8)]\n",
    "beauty_test = all_beauty[int(len(all_beauty)*0.8):]"
   ]
  },
  {
   "cell_type": "code",
   "execution_count": 10,
   "metadata": {},
   "outputs": [],
   "source": [
    "usersPerItem = defaultdict(set) # Maps an item to the users who rated it\n",
    "itemsPerUser = defaultdict(set) # Maps a user to the items that they rated\n",
    "itemNames = {}\n",
    "ratingDict = {} # To retrieve a rating for a specific user/item pair\n",
    "reviewsPerUser = defaultdict(list)\n",
    "    \n",
    "for _, row in beauty_train.iterrows():\n",
    "    user, item = row['user'], row['item']\n",
    "    usersPerItem[item].add(user)\n",
    "    itemsPerUser[user].add(item)\n",
    "    reviewsPerUser[user].append(row)\n",
    "\n",
    "for _, row in all_beauty.iterrows():\n",
    "    user, item = row['user'], row['item']\n",
    "    ratingDict[(user,item)] = row['rating']"
   ]
  },
  {
   "cell_type": "code",
   "execution_count": 11,
   "metadata": {},
   "outputs": [],
   "source": [
    "userAverages = {}\n",
    "itemAverages = {}\n",
    "\n",
    "for u in itemsPerUser:\n",
    "    rs = [ratingDict[(u,i)] for i in itemsPerUser[u]]\n",
    "    userAverages[u] = sum(rs) / len(rs)\n",
    "    \n",
    "for i in usersPerItem:\n",
    "    rs = [ratingDict[(u,i)] for u in usersPerItem[i]]\n",
    "    itemAverages[i] = sum(rs) / len(rs)\n"
   ]
  },
  {
   "cell_type": "code",
   "execution_count": 12,
   "metadata": {},
   "outputs": [],
   "source": [
    "ratingMean = sum([r for r in beauty_train['rating']]) / len(beauty_train['rating'])"
   ]
  },
  {
   "cell_type": "markdown",
   "metadata": {},
   "source": [
    "## Predictive Models"
   ]
  },
  {
   "cell_type": "markdown",
   "metadata": {},
   "source": [
    "To ensure that we are optimizing the accuracy of our model, we will be utilizing a 80/20 train-test split to train our predictive models and we will be testing our model's MSE on the test set. In order to determine a similarity function that will be best to use, we will compare the MSE of collaborative-filtering predictions using Jaccard and Cosine Similarity function. Once we have determined which similarity function yields better results, will then implement time-weight collaborative filtering with the optimal similarity function in order to account for additional data noise of older reviews. We will need to optimize our hyperparameter lambda to ensure adequate performance of our model."
   ]
  },
  {
   "cell_type": "code",
   "execution_count": 13,
   "metadata": {},
   "outputs": [],
   "source": [
    "def Cosine(i1, i2):\n",
    "    # Between two items\n",
    "    inter = usersPerItem[i1].intersection(usersPerItem[i2])\n",
    "    numer = 0\n",
    "    denom1 = 0\n",
    "    denom2 = 0\n",
    "    for u in inter:\n",
    "        numer += ratingDict[(u,i1)]*ratingDict[(u,i2)]\n",
    "    for u in usersPerItem[i1]:\n",
    "        denom1 += ratingDict[(u,i1)]**2\n",
    "    for u in usersPerItem[i2]:\n",
    "        denom2 += ratingDict[(u,i2)]**2\n",
    "    denom = sqrt(denom1) * sqrt(denom2)\n",
    "    if denom == 0: return 0\n",
    "    return numer / denom"
   ]
  },
  {
   "cell_type": "code",
   "execution_count": 14,
   "metadata": {},
   "outputs": [],
   "source": [
    "def Jaccard(s1, s2):\n",
    "    numer = len(s1.intersection(s2))\n",
    "    denom = len(s1.union(s2))\n",
    "    if denom == 0:\n",
    "        return 0\n",
    "    return numer / denom"
   ]
  },
  {
   "cell_type": "code",
   "execution_count": 15,
   "metadata": {},
   "outputs": [],
   "source": [
    "def MSE(y, ypred):\n",
    "    diffs = [(a-b)**2 for (a,b) in zip(y,ypred)]\n",
    "    return sum(diffs) / len(diffs)"
   ]
  },
  {
   "cell_type": "code",
   "execution_count": 16,
   "metadata": {},
   "outputs": [],
   "source": [
    "# Cosine Similarity bases predictions\n",
    "def predictRatingCosine(user,item):\n",
    "    ratings = []\n",
    "    similarities = []\n",
    "    for d in reviewsPerUser[user]:\n",
    "        i2 = d['item']\n",
    "        if i2 == item: continue\n",
    "        ratings.append(d['rating'] - itemAverages[i2])\n",
    "        similarities.append(Cosine(item,i2))\n",
    "    if (sum(similarities) > 0):\n",
    "        weightedRatings = [(x*y) for x,y in zip(ratings,similarities)]\n",
    "        return itemAverages[item] + sum(weightedRatings) / sum(similarities)\n",
    "    else:\n",
    "        # User hasn't rated any similar items\n",
    "        if item in itemAverages:\n",
    "            return itemAverages[item]\n",
    "        return ratingMean"
   ]
  },
  {
   "cell_type": "code",
   "execution_count": 17,
   "metadata": {},
   "outputs": [],
   "source": [
    "# Jaccard Similarity bases predictions (Collaborative Filtering)\n",
    "def predictRatingJaccard(user,item):\n",
    "    ratings = []\n",
    "    similarities = []\n",
    "    for d in reviewsPerUser[user]:\n",
    "        i2 = d['item']\n",
    "        if i2 == item: continue\n",
    "        ratings.append(d['rating'] - itemAverages[i2])\n",
    "        similarities.append(Jaccard(usersPerItem[item],usersPerItem[i2]))\n",
    "    if (sum(similarities) > 0):\n",
    "        weightedRatings = [(x*y) for x,y in zip(ratings,similarities)]\n",
    "        return itemAverages[item] + sum(weightedRatings) / sum(similarities)\n",
    "    else:\n",
    "        # User hasn't rated any similar items\n",
    "        if item in itemAverages:\n",
    "            return itemAverages[item]\n",
    "        return ratingMean"
   ]
  },
  {
   "cell_type": "code",
   "execution_count": 55,
   "metadata": {},
   "outputs": [],
   "source": [
    "def predictTimeWeightCosine(user, item, lamb):\n",
    "    ratings = []\n",
    "    similarities = []\n",
    "    ts = []\n",
    "    for d in reviewsPerUser[user]:\n",
    "        i2 = d['item']\n",
    "\n",
    "        if i2 == item: continue\n",
    "        ratings.append(d['rating'] - itemAverages[i2])\n",
    "        similarities.append(Cosine(item,i2))\n",
    "        \n",
    "        timestamp = d['timestamp']\n",
    "        ts.append(timestamp)\n",
    "       \n",
    "    weightedRatings = [(x*y*exp(-(lamb)*z)) for x,y,z in zip(ratings,similarities,ts)]\n",
    "    prod_denom = [(x*exp(-(lamb)*y)) for x,y in zip(similarities,ts)]    \n",
    "       \n",
    "    if (sum(prod_denom) > 0):\n",
    "        # since timestamps in seconds(very large value), lambda value has to be close to zero in decimal\n",
    "        # otherwise will overflow\n",
    "        return itemAverages[item] + sum(weightedRatings) / sum(prod_denom)\n",
    "    else:\n",
    "        # User hasn't rated any similar items\n",
    "        if item in itemAverages:\n",
    "            return itemAverages[item] \n",
    "        else:\n",
    "            return ratingMean"
   ]
  },
  {
   "cell_type": "code",
   "execution_count": 19,
   "metadata": {},
   "outputs": [],
   "source": [
    "alwaysPredictMean = [ratingMean for d in beauty_test]"
   ]
  },
  {
   "cell_type": "code",
   "execution_count": 20,
   "metadata": {},
   "outputs": [],
   "source": [
    "simPredictions = [predictRatingJaccard(d['user'], d['item']) for _,d in beauty_test.iterrows()]"
   ]
  },
  {
   "cell_type": "code",
   "execution_count": 21,
   "metadata": {},
   "outputs": [],
   "source": [
    "labels = [d['rating'] for _,d in beauty_test.iterrows()]"
   ]
  },
  {
   "cell_type": "code",
   "execution_count": 22,
   "metadata": {},
   "outputs": [
    {
     "data": {
      "text/plain": [
       "2.689221803466304"
      ]
     },
     "execution_count": 22,
     "metadata": {},
     "output_type": "execute_result"
    }
   ],
   "source": [
    "MSE(alwaysPredictMean, labels)"
   ]
  },
  {
   "cell_type": "code",
   "execution_count": 23,
   "metadata": {},
   "outputs": [
    {
     "data": {
      "text/plain": [
       "2.240120958501206"
      ]
     },
     "execution_count": 23,
     "metadata": {},
     "output_type": "execute_result"
    }
   ],
   "source": [
    "MSE(simPredictions, labels)"
   ]
  },
  {
   "cell_type": "code",
   "execution_count": 33,
   "metadata": {},
   "outputs": [],
   "source": [
    "cosPredictions = [predictRatingCosine(d['user'], d['item']) for _,d in beauty_test.iterrows()]"
   ]
  },
  {
   "cell_type": "code",
   "execution_count": 34,
   "metadata": {},
   "outputs": [
    {
     "data": {
      "text/plain": [
       "2.2400954820205046"
      ]
     },
     "execution_count": 34,
     "metadata": {},
     "output_type": "execute_result"
    }
   ],
   "source": [
    "MSE(cosPredictions, labels) # We can see that Cosine Similarity performs better than Jaccard Similarity"
   ]
  },
  {
   "cell_type": "markdown",
   "metadata": {},
   "source": [
    "From our results, it appears that Cosine Similarity provided better results than Jaccard Similarity given our data. This would indicate that magnitude of the user's ratings are important in our dataset thus Cosine would be more able to capture this specific characteristic of the dataset. "
   ]
  },
  {
   "cell_type": "code",
   "execution_count": 78,
   "metadata": {},
   "outputs": [
    {
     "name": "stdout",
     "output_type": "stream",
     "text": [
      "2.2400954820205046\n",
      "2.2400952623847386\n",
      "2.2400934043843104\n",
      "2.2400873001129176\n",
      "2.2401379600315185\n",
      "2.24128847602426\n",
      "2.24128847602426\n"
     ]
    }
   ],
   "source": [
    "# lambdas close to 0 since timestamp are in seconds (large values) thus scale in decimals\n",
    "for l in [0, 1e-10, 1e-9, 1e-8,1e-7, 1e-6, 1e-1]:\n",
    "    timeCosPredictions = [predictTimeWeightCosine(d['user'], d['item'], l) for _,d in beauty_test.iterrows()]\n",
    "    print(MSE(timeCosPredictions, labels))\n",
    "# the appropriate order of magnitude of lambda should be between 10**(-9)or 10**(-8) \n",
    "# this is because timestamps are in seconds which is going to be a very large value"
   ]
  },
  {
   "cell_type": "code",
   "execution_count": 112,
   "metadata": {},
   "outputs": [
    {
     "name": "stdout",
     "output_type": "stream",
     "text": [
      "2.2400915981493785\n",
      "2.240090073016237\n",
      "2.240088835288877\n",
      "2.2400872283308555\n",
      "2.24008685200541\n",
      "2.240086748619951\n",
      "2.2400869040208304\n",
      "2.2400873001129176\n"
     ]
    }
   ],
   "source": [
    "for l in [2e-9, 3e-9, 4e-9, 6e-9, 7e-9, 8e-9, 9e-9, 1e-8]:\n",
    "    timeCosPredictions = [predictTimeWeightCosine(d['user'], d['item'], l) for _,d in beauty_test.iterrows()]\n",
    "    print(MSE(timeCosPredictions, labels))"
   ]
  },
  {
   "cell_type": "markdown",
   "metadata": {},
   "source": [
    "After selecting the most optimal parameter we can see that the the MSE has improved from the collaborative-filtering model alone. Once we have accounted for temporal features and implemented our model to weigh temporal features into our collaborative-filtering model, we can observe that increasing the lambda parameter improves the MSE of our model until we reach the optimal parameter."
   ]
  },
  {
   "cell_type": "markdown",
   "metadata": {},
   "source": [
    "Overall, we can observe that depending on the characteristics of dataset chosen, the decision of which similarity function to use might matter. In the case where the magnitude of user ratings are a key characteristc of a given dataset, the better choice of similarity function to select for a predictive model might be Cosine Similarity over Jaccard Similarity. Additionally, adding a time-weight component to the predictive model can improve performance results once the lambda parameter of the decay function has been optimized."
   ]
  },
  {
   "cell_type": "code",
   "execution_count": null,
   "metadata": {},
   "outputs": [],
   "source": []
  }
 ],
 "metadata": {
  "kernelspec": {
   "display_name": "Python 3 (ipykernel)",
   "language": "python",
   "name": "python3"
  },
  "language_info": {
   "codemirror_mode": {
    "name": "ipython",
    "version": 3
   },
   "file_extension": ".py",
   "mimetype": "text/x-python",
   "name": "python",
   "nbconvert_exporter": "python",
   "pygments_lexer": "ipython3",
   "version": "3.11.4"
  }
 },
 "nbformat": 4,
 "nbformat_minor": 5
}
